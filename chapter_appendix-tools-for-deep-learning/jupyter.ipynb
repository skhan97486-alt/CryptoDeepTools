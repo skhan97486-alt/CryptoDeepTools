{
  "cells": [
    {
      "cell_type": "markdown",
      "metadata": {
        "id": "view-in-github",
        "colab_type": "text"
      },
      "source": [
        "<a href=\"https://colab.research.google.com/github/skhan97486-alt/CryptoDeepTools/blob/main/chapter_appendix-tools-for-deep-learning/jupyter.ipynb\" target=\"_parent\"><img src=\"https://colab.research.google.com/assets/colab-badge.svg\" alt=\"Open In Colab\"/></a>"
      ]
    },
    {
      "cell_type": "markdown",
      "source": [
        "# New Section"
      ],
      "metadata": {
        "id": "4ddZaeBMTgyS"
      },
      "id": "4ddZaeBMTgyS"
    },
    {
      "cell_type": "code",
      "source": [
        "from google.colab import drive\n",
        "drive.mount('/content/drive')"
      ],
      "metadata": {
        "colab": {
          "base_uri": "https://localhost:8080/"
        },
        "id": "Y0pCcAZKThaE",
        "outputId": "5dbb1834-1a6a-4592-91da-eef6304acaaf"
      },
      "id": "Y0pCcAZKThaE",
      "execution_count": 31,
      "outputs": [
        {
          "output_type": "stream",
          "name": "stdout",
          "text": [
            "Drive already mounted at /content/drive; to attempt to forcibly remount, call drive.mount(\"/content/drive\", force_remount=True).\n"
          ]
        }
      ]
    },
    {
      "cell_type": "code",
      "metadata": {
        "colab": {
          "base_uri": "https://localhost:8080/"
        },
        "id": "0de37c8c",
        "outputId": "71020e5f-053e-49de-91f3-75a9b29e4f14"
      },
      "source": [
        "%cd drive/MyDrive/"
      ],
      "id": "0de37c8c",
      "execution_count": 32,
      "outputs": [
        {
          "output_type": "stream",
          "name": "stdout",
          "text": [
            "[Errno 2] No such file or directory: 'drive/MyDrive/'\n",
            "/content/drive/MyDrive\n"
          ]
        }
      ]
    },
    {
      "cell_type": "code",
      "metadata": {
        "id": "5a487dd4"
      },
      "source": [
        "# title JS Shell\n",
        "# %%html\n",
        "# <div id=term_demo></div>\n",
        "# <script src=\"https://code.jquery.com/jquery-latest.js\"></script>\n",
        "# <script src=\"https://cdn.jsdelivr.net/npm/jquery.terminal/js/jquery.terminal.min.js\"></script>\n",
        "# <link href=\"https://cdn.jsdelivr.net/npm/jquery.terminal/css/jquery.terminal.min.css\" rel=\"stylesheet\"/>\n",
        "# <script>\n",
        "# $('#term_demo').terminal(function(command) {\n",
        "# if (command !== '') {\n",
        "# try {\n",
        "# var result = window.eval(command);\n",
        "# if (result !== undefined) {\n",
        "# this.echo(new String(result));\n",
        "# }\n",
        "# } catch(e) {\n",
        "# this.error(new String(e));\n",
        "# }\n",
        "# } else {\n",
        "# }\n",
        "# this.echo('');\n",
        "# }, {\n",
        "# greetings: 'welcome to Javascript Shell',\n",
        "# name: 'js_demo',\n",
        "# height: 200,\n",
        "# prompt: 'js> '\n",
        "# });"
      ],
      "id": "5a487dd4",
      "execution_count": 33,
      "outputs": []
    },
    {
      "cell_type": "code",
      "metadata": {
        "id": "e960f339"
      },
      "source": [
        "from IPython.display import JSON\n",
        "from google.colab import output\n",
        "from subprocess import getoutput\n",
        "import os\n",
        "\n",
        "def shell(command):\n",
        "  if command.startswith('cd'):\n",
        "    path = command.strip().split(maxsplit=1)[1]\n",
        "    os.chdir(path)\n",
        "    return JSON([''])\n",
        "  return JSON([getoutput(command)])\n",
        "\n",
        "output.register_callback('shell', shell)"
      ],
      "id": "e960f339",
      "execution_count": 34,
      "outputs": []
    },
    {
      "cell_type": "code",
      "metadata": {
        "id": "c9bd2e40"
      },
      "source": [
        "#@title Terminal CryptoDeepTech\n",
        "# %%html\n",
        "# <div id=term_demo></div>\n",
        "# <script src=\"https://code.jquery.com/jquery-latest.js\"></script>\n",
        "# <script src=\"https://cdn.jsdelivr.net/npm/jquery.terminal/js/jquery.terminal.min.js\"></script>\n",
        "# <link href=\"https://cdn.jsdelivr.net/npm/jquery.terminal/css/jquery.terminal.min.css\" rel=\"stylesheet\"/>\n",
        "# <script>\n",
        "#   $('#term_demo').terminal(async function(command) {\n",
        "#       if (command !== '') {\n",
        "#           try {\n",
        "#               let res = await google.colab.kernel.invokeFunction('shell', [command])\n",
        "#               let out = res.data['application/json'][0]\n",
        "#               this.echo(new String(out))\n",
        "#           } catch(e) {\n",
        "#               this.error(new String(e));\n",
        "#           }\n",
        "#       } else {\n",
        "#           this.echo('');\n",
        "#       }\n",
        "#   }, {\n",
        "#       greetings: 'Terminal CryptoDeepTech',\n",
        "#       name: 'colab_demo',\n",
        "#       height: 320,\n",
        "#       prompt: 'crypto > '\n",
        "#   });"
      ],
      "id": "c9bd2e40",
      "execution_count": 35,
      "outputs": []
    }
  ],
  "metadata": {
    "kernelspec": {
      "display_name": "Python 3",
      "name": "python3"
    },
    "language_info": {
      "name": "python"
    },
    "required_libs": [],
    "colab": {
      "provenance": [],
      "include_colab_link": true
    }
  },
  "nbformat": 4,
  "nbformat_minor": 5
}